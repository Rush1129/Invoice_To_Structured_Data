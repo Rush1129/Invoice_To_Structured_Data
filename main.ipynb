{
 "cells": [
  {
   "cell_type": "code",
   "execution_count": null,
   "metadata": {},
   "outputs": [],
   "source": [
    "from ultralytics import YOLO\n",
    "\n",
    "# Load YOLOv8 model\n",
    "model = YOLO(\"yolov8m.pt\")  # Choose larger models if needed\n",
    "\n",
    "# Train using small dataset\n",
    "model.train(data=\"dataset/dataset.yaml\", epochs=10, imgsz=640, batch=8)\n",
    "\n",
    "# Save trained model path\n",
    "model_path = \"runs/detect/train/weights/best.pt\"\n",
    "print(f\"Training completed! Model saved at {model_path}\")\n"
   ]
  }
 ],
 "metadata": {
  "language_info": {
   "name": "python"
  },
  "orig_nbformat": 4
 },
 "nbformat": 4,
 "nbformat_minor": 2
}
